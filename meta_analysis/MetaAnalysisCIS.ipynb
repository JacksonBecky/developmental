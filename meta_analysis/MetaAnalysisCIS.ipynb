{
  "metadata": {
    "kernelspec": {
      "name": "python",
      "display_name": "Pyolite",
      "language": "python"
    },
    "language_info": {
      "codemirror_mode": {
        "name": "python",
        "version": 3
      },
      "file_extension": ".py",
      "mimetype": "text/x-python",
      "name": "python",
      "nbconvert_exporter": "python",
      "pygments_lexer": "ipython3",
      "version": "3.8"
    }
  },
  "nbformat_minor": 4,
  "nbformat": 4,
  "cells": [
    {
      "cell_type": "markdown",
      "source": "# Computing and plotting confidence intervals from meta-analysis data",
      "metadata": {}
    },
    {
      "cell_type": "code",
      "source": "\n#set path to location of data\n#setwd('U:/')\n# Read data\nalldat <- read.csv(\"dev_metaa_data.csv\", stringsAsFactors = F)\nhead(alldat) #uses conservative sd i.e., real sd if have, max poss if not\n\n#to check if use maximum SDs only\n#alldat <- read.csv(\"dev_metaa_data_for_tim_updated_MAXSDONLY.csv\", stringsAsFactors = F)\n#head(alldat) #uses conservative sd i.e., real sd if have, max poss if not\n",
      "metadata": {
        "trusted": true
      },
      "execution_count": 23,
      "outputs": [
        {
          "ename": "<class 'NameError'>",
          "evalue": "name 'alldat' is not defined",
          "traceback": [
            "\u001b[0;31m---------------------------------------------------------------------------\u001b[0m",
            "\u001b[0;31mNameError\u001b[0m                                 Traceback (most recent call last)",
            "Input \u001b[0;32mIn [23]\u001b[0m, in \u001b[0;36m<cell line: 6>\u001b[0;34m()\u001b[0m\n\u001b[1;32m      1\u001b[0m \u001b[38;5;66;03m#clear variables\u001b[39;00m\n\u001b[1;32m      2\u001b[0m \u001b[38;5;66;03m#rm(list = ls())\u001b[39;00m\n\u001b[1;32m      3\u001b[0m \u001b[38;5;66;03m#set path to location of data\u001b[39;00m\n\u001b[1;32m      4\u001b[0m \u001b[38;5;66;03m#setwd('U:/POSTDOC_projects/BA_fellowship&ERC_postdoc/dev_model/metaData/metaData')\u001b[39;00m\n\u001b[1;32m      5\u001b[0m \u001b[38;5;66;03m# Read data\u001b[39;00m\n\u001b[0;32m----> 6\u001b[0m \u001b[43malldat\u001b[49m \u001b[38;5;241m<\u001b[39m\u001b[38;5;241m-\u001b[39m read\u001b[38;5;241m.\u001b[39mcsv(\u001b[38;5;124m\"\u001b[39m\u001b[38;5;124mdev_metaa_data.csv\u001b[39m\u001b[38;5;124m\"\u001b[39m, stringsAsFactors \u001b[38;5;241m=\u001b[39m F)\n\u001b[1;32m      7\u001b[0m head(alldat)\n",
            "\u001b[0;31mNameError\u001b[0m: name 'alldat' is not defined"
          ],
          "output_type": "error"
        }
      ]
    },
    {
      "cell_type": "code",
      "source": "#Read in functions\nsimdat <- dget(\"simdat.r\")\nget.ci <- dget(\"get_ci.r\") #assumes wants conservative sd column (where taken max if don't have, real sd if do)\nplot.ribbon <- dget(\"plot_ribbon.r\")\nplot.all <- dget(\"plot_all.r\")",
      "metadata": {
        "trusted": true
      },
      "execution_count": 6,
      "outputs": [
        {
          "ename": "<class 'NameError'>",
          "evalue": "name 'simdat' is not defined",
          "traceback": [
            "\u001b[0;31m---------------------------------------------------------------------------\u001b[0m",
            "\u001b[0;31mNameError\u001b[0m                                 Traceback (most recent call last)",
            "Input \u001b[0;32mIn [6]\u001b[0m, in \u001b[0;36m<cell line: 2>\u001b[0;34m()\u001b[0m\n\u001b[1;32m      1\u001b[0m \u001b[38;5;66;03m#Read in functions\u001b[39;00m\n\u001b[0;32m----> 2\u001b[0m \u001b[43msimdat\u001b[49m \u001b[38;5;241m<\u001b[39m\u001b[38;5;241m-\u001b[39m dget(\u001b[38;5;124m\"\u001b[39m\u001b[38;5;124msimdat.r\u001b[39m\u001b[38;5;124m\"\u001b[39m)\n\u001b[1;32m      3\u001b[0m get\u001b[38;5;241m.\u001b[39mci \u001b[38;5;241m<\u001b[39m\u001b[38;5;241m-\u001b[39m dget(\u001b[38;5;124m\"\u001b[39m\u001b[38;5;124mget_ci.r\u001b[39m\u001b[38;5;124m\"\u001b[39m)\n\u001b[1;32m      4\u001b[0m plot\u001b[38;5;241m.\u001b[39mribbon \u001b[38;5;241m<\u001b[39m\u001b[38;5;241m-\u001b[39m dget(\u001b[38;5;124m\"\u001b[39m\u001b[38;5;124mplot_ribbon.r\u001b[39m\u001b[38;5;124m\"\u001b[39m)\n",
            "\u001b[0;31mNameError\u001b[0m: name 'simdat' is not defined"
          ],
          "output_type": "error"
        }
      ]
    },
    {
      "cell_type": "markdown",
      "source": "Look at text file comments for each script to see available parameters.\n\n*simdat*: Generates simulated data from a set of studies given their mean, standard deviation, and number of subjects\n\n*get.ci*: Computes confidence intervals from a set of studies by generating many simulated data sets\n\n*plot.ribbon*: Generates a ribbon plot from confidence intervals produced by get.ci\n\n*plot.all*: Recreates the plot I sent via email",
      "metadata": {}
    },
    {
      "cell_type": "code",
      "source": "ages <- unique(alldat$age) #Pull out age values\n#ages <- ages[c(8,1:5,7)] #Reorder and drop 7, 11 and 14\nages <- ages[c(8,1:7)] #Reorder w/o dropping 7\nages",
      "metadata": {
        "trusted": true
      },
      "execution_count": 7,
      "outputs": [
        {
          "ename": "<class 'SyntaxError'>",
          "evalue": "invalid syntax (<ipython-input-7-01cb92f3833b>, line 1)",
          "traceback": [
            "\u001b[0;36m  Input \u001b[0;32mIn [7]\u001b[0;36m\u001b[0m\n\u001b[0;31m    ages <- unique(alldat$age) #Pull out age values\u001b[0m\n\u001b[0m                         ^\u001b[0m\n\u001b[0;31mSyntaxError\u001b[0m\u001b[0;31m:\u001b[0m invalid syntax\n"
          ],
          "output_type": "error"
        }
      ]
    },
    {
      "cell_type": "code",
      "source": "# Compute CIs at each age for TaxOnly studies\ntaxocis <- matrix(NA, 8, 3)\nfor(i in c(1:8)){\n    tmp <- alldat[alldat$cond==\"TaxOnly\" & alldat$age==ages[i],] #Pull out relevant studies\n    taxocis[i,] <- get.ci(tmp) #Calculate cis\n}\ntaxocis",
      "metadata": {
        "trusted": true
      },
      "execution_count": 8,
      "outputs": [
        {
          "ename": "<class 'SyntaxError'>",
          "evalue": "invalid syntax (<ipython-input-8-5a6e83516bda>, line 3)",
          "traceback": [
            "\u001b[0;36m  Input \u001b[0;32mIn [8]\u001b[0;36m\u001b[0m\n\u001b[0;31m    for(i in c(1:7)){\u001b[0m\n\u001b[0m                ^\u001b[0m\n\u001b[0;31mSyntaxError\u001b[0m\u001b[0;31m:\u001b[0m invalid syntax\n"
          ],
          "output_type": "error"
        }
      ]
    },
    {
      "cell_type": "code",
      "source": "# Compute CIs at each age for ThemOnly studies\nthemocis <- matrix(NA, 8, 3)\nfor(i in c(1:8)){\n    tmp <- alldat[alldat$cond==\"ThemOnly\" & alldat$age==ages[i],] #Pull out relevant studies\n    themocis[i,] <- get.ci(tmp) #Calculate cis\n}\nthemocis",
      "metadata": {
        "trusted": true
      },
      "execution_count": 22,
      "outputs": [
        {
          "ename": "<class 'SyntaxError'>",
          "evalue": "invalid syntax (<ipython-input-22-13cd2d5eac6e>, line 3)",
          "traceback": [
            "\u001b[0;36m  Input \u001b[0;32mIn [22]\u001b[0;36m\u001b[0m\n\u001b[0;31m    for(i in c(1:7)){\u001b[0m\n\u001b[0m                ^\u001b[0m\n\u001b[0;31mSyntaxError\u001b[0m\u001b[0;31m:\u001b[0m invalid syntax\n"
          ],
          "output_type": "error"
        }
      ]
    },
    {
      "cell_type": "code",
      "source": "# Compute CIs at each age for TaxCue studies\ntaxcuecis <- matrix(NA, 8, 3)\nfor(i in c(2:8)){ #start at 2 since no one-year-olds\n    tmp <- alldat[alldat$cond==\"TaxCue\" & alldat$age==ages[i],] #Pull out relevant studies\n    taxcuecis[i,] <- get.ci(tmp) #Calculate cis\n}\ntaxcuecis",
      "metadata": {
        "trusted": true
      },
      "execution_count": 9,
      "outputs": [
        {
          "ename": "<class 'SyntaxError'>",
          "evalue": "invalid syntax (<ipython-input-9-c28b4afda49c>, line 3)",
          "traceback": [
            "\u001b[0;36m  Input \u001b[0;32mIn [9]\u001b[0;36m\u001b[0m\n\u001b[0;31m    for(i in c(2:7)){ #start at 2 since no one-year-olds\u001b[0m\n\u001b[0m                ^\u001b[0m\n\u001b[0;31mSyntaxError\u001b[0m\u001b[0;31m:\u001b[0m invalid syntax\n"
          ],
          "output_type": "error"
        }
      ]
    },
    {
      "cell_type": "code",
      "source": "# Compute CIs at each age for ThemCue studies\nthmcuecis <- matrix(NA, 8, 3)\nfor(i in c(2:8)){ #start at 2 since no one-year-olds\n    tmp <- alldat[alldat$cond==\"ThemCue\" & alldat$age==ages[i],] #Pull out relevant studies\n    thmcuecis[i,] <- get.ci(tmp) #Calculate cis\n}\nthmcuecis",
      "metadata": {
        "trusted": true
      },
      "execution_count": 10,
      "outputs": [
        {
          "ename": "<class 'SyntaxError'>",
          "evalue": "invalid syntax (<ipython-input-10-f479861e3133>, line 3)",
          "traceback": [
            "\u001b[0;36m  Input \u001b[0;32mIn [10]\u001b[0;36m\u001b[0m\n\u001b[0;31m    for(i in c(2:7)){ #start at 2 since no one-year-olds\u001b[0m\n\u001b[0m                ^\u001b[0m\n\u001b[0;31mSyntaxError\u001b[0m\u001b[0;31m:\u001b[0m invalid syntax\n"
          ],
          "output_type": "error"
        }
      ]
    },
    {
      "cell_type": "code",
      "source": "#Plot ribbon\n plot(1, 1, type = \"n\", ylim = c(0, 1), xlim = c(1, 8), xaxt = \"n\", \n        xlab = \"Age\", ylab = \"Proportion of Responses\")\n\n    plot.ribbon(thmcuecis, new = F, pcol = c(0.067, .914, 0.773))\n    plot.ribbon(taxcuecis, new = F, pcol = c(0.914, .638, 0.51))\n    plot.ribbon(taxocis, new = F, pcol = c(0.33, 0, 0.6))\n    plot.ribbon(themocis, new = F, pcol = c(0.33, 0, 0.3))\n    \n    abline(h = 0.5, lty = 2) #show chance level\n    mtext(side = 1, line = 0.3, at = c(1:8), adj = 0.5, text = ages)\n #   legend(1, 1, pch = 16, col = c(\"gray56\",\"gray32\" , \"darkgreen\", \"blue3\"), \n  #      legend = c(\"TaxOnly\", \"ThemOnly\", \"TaxCue\", \"ThemCue\"), bty = \"n\")\n\n    ",
      "metadata": {
        "trusted": true
      },
      "execution_count": 11,
      "outputs": [
        {
          "ename": "<class 'IndentationError'>",
          "evalue": "unexpected indent (<ipython-input-11-703b69319c73>, line 2)",
          "traceback": [
            "\u001b[0;36m  Input \u001b[0;32mIn [11]\u001b[0;36m\u001b[0m\n\u001b[0;31m    plot(1, 1, type = \"n\", ylim = c(0, 1), xlim = c(1, 7), xaxt = \"n\",\u001b[0m\n\u001b[0m    ^\u001b[0m\n\u001b[0;31mIndentationError\u001b[0m\u001b[0;31m:\u001b[0m unexpected indent\n"
          ],
          "output_type": "error"
        }
      ]
    },
    {
      "cell_type": "code",
      "source": "#This function just replicates above commands in a single function\nplot.all()\n",
      "metadata": {
        "trusted": true
      },
      "execution_count": 12,
      "outputs": [
        {
          "ename": "<class 'NameError'>",
          "evalue": "name 'plot' is not defined",
          "traceback": [
            "\u001b[0;31m---------------------------------------------------------------------------\u001b[0m",
            "\u001b[0;31mNameError\u001b[0m                                 Traceback (most recent call last)",
            "Input \u001b[0;32mIn [12]\u001b[0m, in \u001b[0;36m<cell line: 2>\u001b[0;34m()\u001b[0m\n\u001b[1;32m      1\u001b[0m \u001b[38;5;66;03m#This function just replicates above commands in a single function\u001b[39;00m\n\u001b[0;32m----> 2\u001b[0m \u001b[43mplot\u001b[49m\u001b[38;5;241m.\u001b[39mall()\n",
            "\u001b[0;31mNameError\u001b[0m: name 'plot' is not defined"
          ],
          "output_type": "error"
        }
      ]
    },
    {
      "cell_type": "code",
      "source": "",
      "metadata": {},
      "execution_count": null,
      "outputs": []
    }
  ]
}